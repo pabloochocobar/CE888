{
  "nbformat": 4,
  "nbformat_minor": 0,
  "metadata": {
    "colab": {
      "name": "Lab7_Exercise2_DogvsCat_CNN.ipynb",
      "provenance": [],
      "include_colab_link": true
    },
    "kernelspec": {
      "name": "python3",
      "display_name": "Python 3"
    },
    "accelerator": "GPU"
  },
  "cells": [
    {
      "cell_type": "markdown",
      "metadata": {
        "id": "view-in-github",
        "colab_type": "text"
      },
      "source": [
        "<a href=\"https://colab.research.google.com/github/pabloochocobar/CE888/blob/main/Labs/Lab7/Lab7_Exercise2_DogvsCat_CNN.ipynb\" target=\"_parent\"><img src=\"https://colab.research.google.com/assets/colab-badge.svg\" alt=\"Open In Colab\"/></a>"
      ]
    },
    {
      "cell_type": "markdown",
      "metadata": {
        "id": "qTh9DiKVslsJ"
      },
      "source": [
        "## Dogs vs. Cats \n",
        "\n",
        "In this competition, you'll write an algorithm to classify whether images contain either a dog or a cat.  This is easy for humans, dogs, and cats. Your computer will find it a bit more difficult.\n",
        "\n",
        "![alt text](https://miro.medium.com/max/3000/1*bhFifratH9DjKqMBTeQG5A.gif)\n",
        "\n",
        "Ref: https://medium.com/@thegrigorian/rolling-in-the-deep-cnn-c8d3f7108c8c"
      ]
    },
    {
      "cell_type": "markdown",
      "metadata": {
        "id": "RSBI-_mSSY1g"
      },
      "source": [
        "Get your API Key from Kaggle using following steps:\n",
        "1. Login to [Kaggle](https://www.kaggle.com/) or Register if you don't have account\n",
        "2. Open Dataset (https://www.kaggle.com/c/dogs-vs-cats/rules) and accept terms and condition. \n",
        "3. On the top right corner click on your Icon and go to accounts and press a button \"Create New API Token\". It will download a JSON file containing your username and key. \n",
        "4. Now, paste both below. \n"
      ]
    },
    {
      "cell_type": "code",
      "metadata": {
        "id": "YmXSOc0tZIGA",
        "colab": {
          "base_uri": "https://localhost:8080/"
        },
        "outputId": "56666b7e-721f-46c5-dac0-e16db6bfb44a"
      },
      "source": [
        "import os\n",
        "os.environ['KAGGLE_USERNAME'] = \"deveshfuse\" # username from the json file\n",
        "os.environ['KAGGLE_KEY'] = \"d5bdc41883a3e030d4dab175bd082970\" # key from the json file\n",
        "!kaggle competitions download -c dogs-vs-cats # api copied from kaggle (https://www.kaggle.com/c/dogs-vs-cats/data)"
      ],
      "execution_count": null,
      "outputs": [
        {
          "output_type": "stream",
          "text": [
            "Warning: Looks like you're using an outdated API Version, please consider updating (server 1.5.12 / client 1.5.4)\n",
            "Downloading train.zip to /content\n",
            " 97% 527M/543M [00:03<00:00, 163MB/s]\n",
            "100% 543M/543M [00:03<00:00, 148MB/s]\n",
            "Downloading test1.zip to /content\n",
            " 97% 263M/271M [00:02<00:00, 123MB/s]\n",
            "100% 271M/271M [00:02<00:00, 122MB/s]\n",
            "Downloading sampleSubmission.csv to /content\n",
            "  0% 0.00/86.8k [00:00<?, ?B/s]\n",
            "100% 86.8k/86.8k [00:00<00:00, 85.5MB/s]\n"
          ],
          "name": "stdout"
        }
      ]
    },
    {
      "cell_type": "code",
      "metadata": {
        "id": "PiwIL8d1n7eS",
        "colab": {
          "base_uri": "https://localhost:8080/"
        },
        "outputId": "22477cc8-e06f-46cd-e329-3e19828890b9"
      },
      "source": [
        "# Unzip training data\n",
        "from zipfile import ZipFile\n",
        "file_name = \"/content/train.zip\"\n",
        "with ZipFile(file_name, 'r') as zip:\n",
        "  zip.extractall()\n",
        "  print('done')"
      ],
      "execution_count": null,
      "outputs": [
        {
          "output_type": "stream",
          "text": [
            "done\n"
          ],
          "name": "stdout"
        }
      ]
    },
    {
      "cell_type": "code",
      "metadata": {
        "id": "sa2Bj5i7pPKV",
        "colab": {
          "base_uri": "https://localhost:8080/"
        },
        "outputId": "cf916db9-926a-4d1b-9601-ec40b14e661c"
      },
      "source": [
        "# Get all the paths\n",
        "data_dir_list = os.listdir('/content/train')\n",
        "#print(data_dir_list)\n",
        "path, dirs, files = next(os.walk(\"/content/train\"))\n",
        "file_count = len(files)\n",
        "print(file_count)"
      ],
      "execution_count": null,
      "outputs": [
        {
          "output_type": "stream",
          "text": [
            "25000\n"
          ],
          "name": "stdout"
        }
      ]
    },
    {
      "cell_type": "code",
      "metadata": {
        "id": "0ERlHkfHqpK8",
        "colab": {
          "base_uri": "https://localhost:8080/",
          "height": 204
        },
        "outputId": "934e9b7a-d6b9-4042-cd70-fc3a2f0153c7"
      },
      "source": [
        "# Make new base directory\n",
        "original_dataset_dir = '/content/train'\n",
        "base_dir = '/content/cats_and_dogs_small'\n",
        "os.mkdir(base_dir)"
      ],
      "execution_count": null,
      "outputs": [
        {
          "output_type": "error",
          "ename": "FileExistsError",
          "evalue": "ignored",
          "traceback": [
            "\u001b[0;31m---------------------------------------------------------------------------\u001b[0m",
            "\u001b[0;31mFileExistsError\u001b[0m                           Traceback (most recent call last)",
            "\u001b[0;32m<ipython-input-16-b62abd036009>\u001b[0m in \u001b[0;36m<module>\u001b[0;34m()\u001b[0m\n\u001b[1;32m      2\u001b[0m \u001b[0moriginal_dataset_dir\u001b[0m \u001b[0;34m=\u001b[0m \u001b[0;34m'/content/train'\u001b[0m\u001b[0;34m\u001b[0m\u001b[0;34m\u001b[0m\u001b[0m\n\u001b[1;32m      3\u001b[0m \u001b[0mbase_dir\u001b[0m \u001b[0;34m=\u001b[0m \u001b[0;34m'/content/cats_and_dogs_small'\u001b[0m\u001b[0;34m\u001b[0m\u001b[0;34m\u001b[0m\u001b[0m\n\u001b[0;32m----> 4\u001b[0;31m \u001b[0mos\u001b[0m\u001b[0;34m.\u001b[0m\u001b[0mmkdir\u001b[0m\u001b[0;34m(\u001b[0m\u001b[0mbase_dir\u001b[0m\u001b[0;34m)\u001b[0m\u001b[0;34m\u001b[0m\u001b[0;34m\u001b[0m\u001b[0m\n\u001b[0m",
            "\u001b[0;31mFileExistsError\u001b[0m: [Errno 17] File exists: '/content/cats_and_dogs_small'"
          ]
        }
      ]
    },
    {
      "cell_type": "code",
      "metadata": {
        "id": "AANB1UJ6rQhM"
      },
      "source": [
        "train_dir = os.path.join(base_dir, 'train')\n",
        "os.mkdir(train_dir)\n",
        "\n",
        "validation_dir = os.path.join(base_dir, 'validation')\n",
        "os.mkdir(validation_dir)\n",
        "\n",
        "test_dir = os.path.join(base_dir, 'test')\n",
        "os.mkdir(test_dir)\n",
        "\n",
        "train_cats_dir = os.path.join(train_dir, 'cats')\n",
        "os.mkdir(train_cats_dir)\n",
        "\n",
        "train_dogs_dir = os.path.join(train_dir, 'dogs')\n",
        "os.mkdir(train_dogs_dir)\n",
        "\n",
        "validation_cats_dir = os.path.join(validation_dir, 'cats')\n",
        "os.mkdir(validation_cats_dir)\n",
        "\n",
        "validation_dogs_dir = os.path.join(validation_dir, 'dogs')\n",
        "os.mkdir(validation_dogs_dir)\n",
        "\n",
        "test_cats_dir = os.path.join(test_dir, 'cats')\n",
        "os.mkdir(test_cats_dir)\n",
        "\n",
        "test_dogs_dir = os.path.join(test_dir, 'dogs')\n",
        "os.mkdir(test_dogs_dir)"
      ],
      "execution_count": null,
      "outputs": []
    },
    {
      "cell_type": "code",
      "metadata": {
        "id": "ULRgL9s9rV8T"
      },
      "source": [
        "import shutil\n",
        "fnames = ['cat.{}.jpg'.format(i) for i in range(1000)]\n",
        "for fname in fnames:\n",
        "    src = os.path.join(original_dataset_dir, fname)\n",
        "    dst = os.path.join(train_cats_dir, fname)\n",
        "    #print(src,dst)\n",
        "    shutil.copyfile(src, dst)\n",
        "    \n",
        "fnames = ['cat.{}.jpg'.format(i) for i in range(1000, 1500)]\n",
        "for fname in fnames:\n",
        "    src = os.path.join(original_dataset_dir, fname)\n",
        "    dst = os.path.join(validation_cats_dir, fname)\n",
        "    shutil.copyfile(src, dst)\n",
        "\n",
        "fnames = ['cat.{}.jpg'.format(i) for i in range(1500, 2000)]\n",
        "for fname in fnames:\n",
        "    src = os.path.join(original_dataset_dir, fname)\n",
        "    dst = os.path.join(test_cats_dir, fname)\n",
        "    shutil.copyfile(src, dst)\n",
        "    \n",
        "fnames = ['dog.{}.jpg'.format(i) for i in range(1000)]\n",
        "for fname in fnames:\n",
        "    src = os.path.join(original_dataset_dir, fname)\n",
        "    dst = os.path.join(train_dogs_dir, fname)\n",
        "    shutil.copyfile(src, dst)\n",
        "\n",
        "fnames = ['dog.{}.jpg'.format(i) for i in range(1000, 1500)]\n",
        "for fname in fnames:\n",
        "    src = os.path.join(original_dataset_dir, fname)\n",
        "    dst = os.path.join(validation_dogs_dir, fname)\n",
        "    shutil.copyfile(src, dst)\n",
        "\n",
        "fnames = ['dog.{}.jpg'.format(i) for i in range(1500, 2000)]\n",
        "for fname in fnames:\n",
        "    src = os.path.join(original_dataset_dir, fname)\n",
        "    dst = os.path.join(test_dogs_dir, fname)\n",
        "    shutil.copyfile(src, dst)"
      ],
      "execution_count": null,
      "outputs": []
    },
    {
      "cell_type": "code",
      "metadata": {
        "id": "ul3XAbIyr7vC",
        "colab": {
          "base_uri": "https://localhost:8080/"
        },
        "outputId": "e4d0f1ba-7308-4d1e-9af7-79e97afc8244"
      },
      "source": [
        "print('total training cat images:', len(os.listdir(train_cats_dir)))\n",
        "print('total training dog images:', len(os.listdir(train_dogs_dir)))\n",
        "print('total validation cat images:', len(os.listdir(validation_cats_dir)))\n",
        "\n",
        "print('total validation dog images:', len(os.listdir(validation_dogs_dir)))\n",
        "print('total test cat images:', len(os.listdir(test_cats_dir)))\n",
        "print('total test dog images:', len(os.listdir(test_dogs_dir)))"
      ],
      "execution_count": null,
      "outputs": [
        {
          "output_type": "stream",
          "text": [
            "total training cat images: 1000\n",
            "total training dog images: 1000\n",
            "total validation cat images: 500\n",
            "total validation dog images: 500\n",
            "total test cat images: 500\n",
            "total test dog images: 500\n"
          ],
          "name": "stdout"
        }
      ]
    },
    {
      "cell_type": "code",
      "metadata": {
        "id": "o9yTA21_r-ma",
        "colab": {
          "base_uri": "https://localhost:8080/"
        },
        "outputId": "bc3974f3-0eb2-4c9c-f2c9-3ba700a34bcc"
      },
      "source": [
        "from keras import layers\n",
        "from keras import models\n",
        "\n",
        "model = models.Sequential()\n",
        "model.add(layers.Conv2D(32, (3, 3), activation='relu', input_shape=(150, 150, 3)))\n",
        "model.add(layers.MaxPooling2D((2, 2)))\n",
        "model.add(layers.Conv2D(64, (3, 3), activation='relu'))\n",
        "model.add(layers.MaxPooling2D((2, 2)))\n",
        "model.add(layers.Conv2D(128, (3, 3), activation='relu'))\n",
        "model.add(layers.MaxPooling2D((2, 2)))\n",
        "model.add(layers.Conv2D(128, (3, 3), activation='relu'))\n",
        "model.add(layers.MaxPooling2D((2, 2)))\n",
        "model.add(layers.Flatten())\n",
        "model.add(layers.Dense(512, activation='relu'))\n",
        "model.add(layers.Dense(1, activation='sigmoid'))\n",
        "model.summary()"
      ],
      "execution_count": null,
      "outputs": [
        {
          "output_type": "stream",
          "text": [
            "Model: \"sequential\"\n",
            "_________________________________________________________________\n",
            "Layer (type)                 Output Shape              Param #   \n",
            "=================================================================\n",
            "conv2d (Conv2D)              (None, 148, 148, 32)      896       \n",
            "_________________________________________________________________\n",
            "max_pooling2d (MaxPooling2D) (None, 74, 74, 32)        0         \n",
            "_________________________________________________________________\n",
            "conv2d_1 (Conv2D)            (None, 72, 72, 64)        18496     \n",
            "_________________________________________________________________\n",
            "max_pooling2d_1 (MaxPooling2 (None, 36, 36, 64)        0         \n",
            "_________________________________________________________________\n",
            "conv2d_2 (Conv2D)            (None, 34, 34, 128)       73856     \n",
            "_________________________________________________________________\n",
            "max_pooling2d_2 (MaxPooling2 (None, 17, 17, 128)       0         \n",
            "_________________________________________________________________\n",
            "conv2d_3 (Conv2D)            (None, 15, 15, 128)       147584    \n",
            "_________________________________________________________________\n",
            "max_pooling2d_3 (MaxPooling2 (None, 7, 7, 128)         0         \n",
            "_________________________________________________________________\n",
            "flatten (Flatten)            (None, 6272)              0         \n",
            "_________________________________________________________________\n",
            "dense (Dense)                (None, 512)               3211776   \n",
            "_________________________________________________________________\n",
            "dense_1 (Dense)              (None, 1)                 513       \n",
            "=================================================================\n",
            "Total params: 3,453,121\n",
            "Trainable params: 3,453,121\n",
            "Non-trainable params: 0\n",
            "_________________________________________________________________\n"
          ],
          "name": "stdout"
        }
      ]
    },
    {
      "cell_type": "code",
      "metadata": {
        "id": "2mG8wekxsBVS"
      },
      "source": [
        "from keras import optimizers\n",
        "model.compile(loss='binary_crossentropy', \n",
        "              optimizer=optimizers.RMSprop(lr=1e-4),\n",
        "              metrics=['acc'])"
      ],
      "execution_count": null,
      "outputs": []
    },
    {
      "cell_type": "markdown",
      "metadata": {
        "id": "7zS4Klm8qWp6"
      },
      "source": [
        "## Using ImageDataGenerator to read images from directories\n",
        "As you know by now, data should be formatted into appropriately preprocessed floatingpoint tensors before being fed into the network. Currently, the data sits on a drive as JPEG files, so the steps for getting it into the network are roughly as follows:\n",
        "\n",
        "* Read the picture files.\n",
        "* Decode the JPEG content to RGB grids of pixels.\n",
        "* Convert these into floating-point tensors.\n",
        "* Rescale the pixel values (between 0 and 255) to the [0, 1] interval (as you know, neural networks prefer to deal with small input values).\n",
        "\n",
        "It may seem a bit daunting, but fortunately Keras has utilities to take care of these steps automatically. Keras has a module with image-processing helper tools, located at keras.preprocessing.image. In particular, it contains the class ImageDataGenerator,which lets you quickly set up Python generators that can automatically turn image files on disk into batches of preprocessed tensors."
      ]
    },
    {
      "cell_type": "code",
      "metadata": {
        "id": "XJ7XU7t9sEh6",
        "colab": {
          "base_uri": "https://localhost:8080/"
        },
        "outputId": "7a53d841-729d-4f6d-9587-79e61ae3c79e"
      },
      "source": [
        "from keras.preprocessing.image import ImageDataGenerator\n",
        "\n",
        "train_datagen = ImageDataGenerator(rescale=1./255)\n",
        "test_datagen = ImageDataGenerator(rescale=1./255)\n",
        "\n",
        "train_generator = train_datagen.flow_from_directory(train_dir,\n",
        "                                                    target_size=(150, 150), \n",
        "                                                    batch_size=20,\n",
        "                                                    class_mode='binary')\n",
        "\n",
        "validation_generator = test_datagen.flow_from_directory(validation_dir,\n",
        "                                                        target_size=(150, 150),\n",
        "                                                        batch_size=20,\n",
        "                                                        class_mode='binary')"
      ],
      "execution_count": null,
      "outputs": [
        {
          "output_type": "stream",
          "text": [
            "Found 2000 images belonging to 2 classes.\n",
            "Found 1000 images belonging to 2 classes.\n"
          ],
          "name": "stdout"
        }
      ]
    },
    {
      "cell_type": "markdown",
      "metadata": {
        "id": "SEgLywySqm4u"
      },
      "source": [
        "Let’s fit the model to the data using the generator. You do so using the fit_generator method, the equivalent of fit for data generators like this one. It expects as its first argument a Python generator that will yield batches of inputs and targets indefinitely,like this one does. Because the data is being generated endlessly, the Keras model needs to know how many samples to draw from the generator before declaring anepoch over. This is the role of the `steps_per_epoch` argument: after having drawn `steps_per_epoch` batches from the generator—that is, after having run for `steps_per_epoch` gradient descent steps—the fitting process will go to the next epoch. In this case, batches are 20 samples, so it will take 100 batches until you see your target of 2,000 samples.\n",
        "\n",
        "When using fit_generator, you can pass a validation_data argument, much as with the fit method. It’s important to note that this argument is allowed to be a data generator, but it could also be a tuple of Numpy arrays. If you pass a generator as validation_data, then this generator is expected to yield batches of validation data endlessly; thus you should also specify the validation_steps argument, which tells the process how many batches to draw from the validation generator for evaluation."
      ]
    },
    {
      "cell_type": "code",
      "metadata": {
        "id": "yMyfPphJsJG6",
        "colab": {
          "base_uri": "https://localhost:8080/"
        },
        "outputId": "0aca5131-3c5e-4eab-f8e8-f17497ef10d8"
      },
      "source": [
        "history = model.fit_generator(train_generator,\n",
        "                              steps_per_epoch=100,\n",
        "                              epochs=30,\n",
        "                              validation_data=validation_generator,\n",
        "                              validation_steps=10)"
      ],
      "execution_count": null,
      "outputs": [
        {
          "output_type": "stream",
          "text": [
            "/usr/local/lib/python3.7/dist-packages/tensorflow/python/keras/engine/training.py:1844: UserWarning: `Model.fit_generator` is deprecated and will be removed in a future version. Please use `Model.fit`, which supports generators.\n",
            "  warnings.warn('`Model.fit_generator` is deprecated and '\n"
          ],
          "name": "stderr"
        },
        {
          "output_type": "stream",
          "text": [
            "Epoch 1/30\n",
            "100/100 [==============================] - 37s 62ms/step - loss: 0.6909 - acc: 0.5338 - val_loss: 0.6705 - val_acc: 0.5700\n",
            "Epoch 2/30\n",
            "100/100 [==============================] - 6s 59ms/step - loss: 0.6612 - acc: 0.6069 - val_loss: 0.6493 - val_acc: 0.6300\n",
            "Epoch 3/30\n",
            "100/100 [==============================] - 6s 59ms/step - loss: 0.6177 - acc: 0.6502 - val_loss: 0.6264 - val_acc: 0.6600\n",
            "Epoch 4/30\n",
            "100/100 [==============================] - 6s 59ms/step - loss: 0.5743 - acc: 0.6965 - val_loss: 0.5243 - val_acc: 0.7200\n",
            "Epoch 5/30\n",
            "100/100 [==============================] - 6s 59ms/step - loss: 0.5225 - acc: 0.7473 - val_loss: 0.6379 - val_acc: 0.6350\n",
            "Epoch 6/30\n",
            "100/100 [==============================] - 6s 59ms/step - loss: 0.5070 - acc: 0.7498 - val_loss: 0.5852 - val_acc: 0.6550\n",
            "Epoch 7/30\n",
            "100/100 [==============================] - 6s 59ms/step - loss: 0.4811 - acc: 0.7764 - val_loss: 0.5452 - val_acc: 0.7100\n",
            "Epoch 8/30\n",
            "100/100 [==============================] - 6s 58ms/step - loss: 0.4564 - acc: 0.7866 - val_loss: 0.5108 - val_acc: 0.7700\n",
            "Epoch 9/30\n",
            "100/100 [==============================] - 6s 59ms/step - loss: 0.4293 - acc: 0.7941 - val_loss: 0.6015 - val_acc: 0.6900\n",
            "Epoch 10/30\n",
            "100/100 [==============================] - 6s 58ms/step - loss: 0.4064 - acc: 0.8184 - val_loss: 0.4877 - val_acc: 0.7550\n",
            "Epoch 11/30\n",
            "100/100 [==============================] - 6s 59ms/step - loss: 0.3669 - acc: 0.8527 - val_loss: 0.4928 - val_acc: 0.7800\n",
            "Epoch 12/30\n",
            "100/100 [==============================] - 6s 59ms/step - loss: 0.3673 - acc: 0.8456 - val_loss: 0.5402 - val_acc: 0.7250\n",
            "Epoch 13/30\n",
            "100/100 [==============================] - 6s 58ms/step - loss: 0.3313 - acc: 0.8535 - val_loss: 0.5656 - val_acc: 0.7450\n",
            "Epoch 14/30\n",
            "100/100 [==============================] - 6s 59ms/step - loss: 0.3093 - acc: 0.8696 - val_loss: 0.5444 - val_acc: 0.7550\n",
            "Epoch 15/30\n",
            "100/100 [==============================] - 6s 59ms/step - loss: 0.2956 - acc: 0.8848 - val_loss: 0.5891 - val_acc: 0.7400\n",
            "Epoch 16/30\n",
            "100/100 [==============================] - 6s 60ms/step - loss: 0.2754 - acc: 0.8924 - val_loss: 0.5780 - val_acc: 0.7250\n",
            "Epoch 17/30\n",
            "100/100 [==============================] - 6s 60ms/step - loss: 0.2593 - acc: 0.8960 - val_loss: 0.5276 - val_acc: 0.7800\n",
            "Epoch 18/30\n",
            "100/100 [==============================] - 6s 59ms/step - loss: 0.2153 - acc: 0.9265 - val_loss: 0.5531 - val_acc: 0.7800\n",
            "Epoch 19/30\n",
            "100/100 [==============================] - 6s 59ms/step - loss: 0.2288 - acc: 0.9073 - val_loss: 0.5808 - val_acc: 0.7800\n",
            "Epoch 20/30\n",
            "100/100 [==============================] - 6s 58ms/step - loss: 0.1974 - acc: 0.9306 - val_loss: 0.6257 - val_acc: 0.7200\n",
            "Epoch 21/30\n",
            "100/100 [==============================] - 6s 59ms/step - loss: 0.1987 - acc: 0.9345 - val_loss: 0.4878 - val_acc: 0.8050\n",
            "Epoch 22/30\n",
            "100/100 [==============================] - 6s 58ms/step - loss: 0.1721 - acc: 0.9370 - val_loss: 0.5924 - val_acc: 0.7850\n",
            "Epoch 23/30\n",
            "100/100 [==============================] - 6s 59ms/step - loss: 0.1408 - acc: 0.9537 - val_loss: 0.8093 - val_acc: 0.7200\n",
            "Epoch 24/30\n",
            "100/100 [==============================] - 6s 59ms/step - loss: 0.1239 - acc: 0.9619 - val_loss: 0.6980 - val_acc: 0.7650\n",
            "Epoch 25/30\n",
            "100/100 [==============================] - 6s 59ms/step - loss: 0.1086 - acc: 0.9677 - val_loss: 0.6391 - val_acc: 0.7450\n",
            "Epoch 26/30\n",
            "100/100 [==============================] - 6s 58ms/step - loss: 0.0955 - acc: 0.9747 - val_loss: 0.7615 - val_acc: 0.7850\n",
            "Epoch 27/30\n",
            "100/100 [==============================] - 6s 58ms/step - loss: 0.0803 - acc: 0.9803 - val_loss: 0.6593 - val_acc: 0.8000\n",
            "Epoch 28/30\n",
            "100/100 [==============================] - 6s 58ms/step - loss: 0.0939 - acc: 0.9714 - val_loss: 0.8246 - val_acc: 0.7450\n",
            "Epoch 29/30\n",
            "100/100 [==============================] - 6s 58ms/step - loss: 0.0649 - acc: 0.9833 - val_loss: 0.9235 - val_acc: 0.7550\n",
            "Epoch 30/30\n",
            "100/100 [==============================] - 6s 59ms/step - loss: 0.0599 - acc: 0.9831 - val_loss: 1.0371 - val_acc: 0.7350\n"
          ],
          "name": "stdout"
        }
      ]
    },
    {
      "cell_type": "code",
      "metadata": {
        "id": "MZaZ2HWZsNUi",
        "colab": {
          "base_uri": "https://localhost:8080/",
          "height": 545
        },
        "outputId": "0f95ab72-30d3-456d-9aff-2a2c5345b517"
      },
      "source": [
        "model.save('cats_and_dogs_small_1.h5')\n",
        "\n",
        "import matplotlib.pyplot as plt\n",
        "\n",
        "acc = history.history['acc']\n",
        "val_acc = history.history['val_acc']\n",
        "loss = history.history['loss']\n",
        "val_loss = history.history['val_loss']\n",
        "\n",
        "epochs = range(1, len(acc) + 1)\n",
        "\n",
        "plt.plot(epochs, acc, 'bo', label='Training acc')\n",
        "plt.plot(epochs, val_acc, 'b', label='Validation acc')\n",
        "plt.title('Training and validation accuracy')\n",
        "plt.legend()\n",
        "\n",
        "plt.figure()\n",
        "\n",
        "plt.plot(epochs, loss, 'bo', label='Training loss')\n",
        "plt.plot(epochs, val_loss, 'b', label='Validation loss')\n",
        "plt.title('Training and validation loss')\n",
        "plt.legend()\n",
        "\n",
        "plt.show()"
      ],
      "execution_count": null,
      "outputs": [
        {
          "output_type": "display_data",
          "data": {
            "image/png": "[encoded data removed]",
            "text/plain": [
              "<Figure size 432x288 with 1 Axes>"
            ]
          },
          "metadata": {
            "tags": [],
            "needs_background": "light"
          }
        },
        {
          "output_type": "display_data",
          "data": {
            "image/png": "[encoded data removed]",
            "text/plain": [
              "<Figure size 432x288 with 1 Axes>"
            ]
          },
          "metadata": {
            "tags": [],
            "needs_background": "light"
          }
        }
      ]
    },
    {
      "cell_type": "markdown",
      "metadata": {
        "id": "XKZmXmBcq_8-"
      },
      "source": [
        "## Convolutional Networks with Dropout\n",
        "\n",
        "![alt text](https://camo.githubusercontent.com/ee6fa1073247cd2c3d241300caf110d7a7541bc5/68747470733a2f2f63646e2d696d616765732d312e6d656469756d2e636f6d2f6d61782f3830302f312a4972644a355067684439596f4f7956415137334d4a772e676966)\n",
        "\n",
        "Ref: https://github.com/mneha4/Training-Neural-Nets---Guidelines"
      ]
    },
    {
      "cell_type": "code",
      "metadata": {
        "id": "wu3cqeYQrDeN"
      },
      "source": [
        "model = models.Sequential()\n",
        "model.add(layers.Conv2D(32, (3, 3), activation='relu',\n",
        "input_shape=(150, 150, 3)))\n",
        "model.add(layers.MaxPooling2D((2, 2)))\n",
        "model.add(layers.Conv2D(64, (3, 3), activation='relu'))\n",
        "model.add(layers.MaxPooling2D((2, 2)))\n",
        "model.add(layers.Conv2D(128, (3, 3), activation='relu'))\n",
        "model.add(layers.MaxPooling2D((2, 2)))\n",
        "model.add(layers.Conv2D(128, (3, 3), activation='relu'))\n",
        "model.add(layers.MaxPooling2D((2, 2)))\n",
        "model.add(layers.Flatten())\n",
        "model.add(layers.Dropout(0.5))\n",
        "model.add(layers.Dense(512, activation='relu'))\n",
        "model.add(layers.Dense(1, activation='sigmoid'))\n",
        "\n",
        "model.compile(loss='binary_crossentropy',\n",
        "              optimizer=optimizers.RMSprop(lr=1e-4),\n",
        "              metrics=['acc'])"
      ],
      "execution_count": null,
      "outputs": []
    },
    {
      "cell_type": "code",
      "metadata": {
        "id": "QSeLpvY0rH7F",
        "colab": {
          "base_uri": "https://localhost:8080/"
        },
        "outputId": "8684d58a-aa55-4776-b56b-8fa71e6dff19"
      },
      "source": [
        "\n",
        "train_datagen = ImageDataGenerator(rescale=1./255,\n",
        "                                   rotation_range=40,\n",
        "                                   width_shift_range=0.2,\n",
        "                                   height_shift_range=0.2,\n",
        "                                   shear_range=0.2,\n",
        "                                   zoom_range=0.2,\n",
        "                                   horizontal_flip=True,)\n",
        "\n",
        "test_datagen = ImageDataGenerator(rescale=1./255)\n",
        "\n",
        "train_generator = train_datagen.flow_from_directory(train_dir,\n",
        "                                                    target_size=(150, 150),\n",
        "                                                    batch_size=20,\n",
        "                                                    class_mode='binary')\n",
        "\n",
        "validation_generator = test_datagen.flow_from_directory(validation_dir,\n",
        "                                                        target_size=(150, 150),\n",
        "                                                        batch_size=20,\n",
        "                                                        class_mode='binary')"
      ],
      "execution_count": null,
      "outputs": [
        {
          "output_type": "stream",
          "text": [
            "Found 2000 images belonging to 2 classes.\n",
            "Found 1000 images belonging to 2 classes.\n"
          ],
          "name": "stdout"
        }
      ]
    },
    {
      "cell_type": "code",
      "metadata": {
        "colab": {
          "base_uri": "https://localhost:8080/"
        },
        "id": "JCacb41ePD4-",
        "outputId": "490d9240-705a-4d45-d4d5-63e1896bef3a"
      },
      "source": [
        "history = model.fit_generator(train_generator,\n",
        "                              steps_per_epoch=100,\n",
        "                              epochs=20,\n",
        "                              validation_data=validation_generator,\n",
        "                              validation_steps=50)"
      ],
      "execution_count": null,
      "outputs": [
        {
          "output_type": "stream",
          "text": [
            "/usr/local/lib/python3.7/dist-packages/tensorflow/python/keras/engine/training.py:1844: UserWarning: `Model.fit_generator` is deprecated and will be removed in a future version. Please use `Model.fit`, which supports generators.\n",
            "  warnings.warn('`Model.fit_generator` is deprecated and '\n"
          ],
          "name": "stderr"
        },
        {
          "output_type": "stream",
          "text": [
            "Epoch 1/20\n",
            "100/100 [==============================] - 16s 161ms/step - loss: 0.6776 - acc: 0.5725 - val_loss: 0.6682 - val_acc: 0.5930\n",
            "Epoch 2/20\n",
            "100/100 [==============================] - 16s 160ms/step - loss: 0.6617 - acc: 0.5940 - val_loss: 0.6591 - val_acc: 0.6070\n",
            "Epoch 3/20\n",
            "100/100 [==============================] - 16s 159ms/step - loss: 0.6494 - acc: 0.6165 - val_loss: 0.6265 - val_acc: 0.6310\n",
            "Epoch 4/20\n",
            "100/100 [==============================] - 16s 160ms/step - loss: 0.6414 - acc: 0.6285 - val_loss: 0.7065 - val_acc: 0.5430\n",
            "Epoch 5/20\n",
            "100/100 [==============================] - 16s 160ms/step - loss: 0.6286 - acc: 0.6380 - val_loss: 0.6096 - val_acc: 0.6560\n",
            "Epoch 6/20\n",
            "100/100 [==============================] - 16s 162ms/step - loss: 0.6199 - acc: 0.6525 - val_loss: 0.5913 - val_acc: 0.6740\n",
            "Epoch 7/20\n",
            "100/100 [==============================] - 16s 160ms/step - loss: 0.6149 - acc: 0.6590 - val_loss: 0.5888 - val_acc: 0.6880\n",
            "Epoch 8/20\n",
            "100/100 [==============================] - 16s 162ms/step - loss: 0.6013 - acc: 0.6745 - val_loss: 0.5768 - val_acc: 0.6900\n",
            "Epoch 9/20\n",
            "100/100 [==============================] - 16s 161ms/step - loss: 0.6023 - acc: 0.6615 - val_loss: 0.5823 - val_acc: 0.6910\n",
            "Epoch 10/20\n",
            "100/100 [==============================] - 16s 161ms/step - loss: 0.5916 - acc: 0.6800 - val_loss: 0.5644 - val_acc: 0.7020\n",
            "Epoch 11/20\n",
            "100/100 [==============================] - 16s 160ms/step - loss: 0.5725 - acc: 0.6950 - val_loss: 0.6223 - val_acc: 0.6740\n",
            "Epoch 12/20\n",
            "100/100 [==============================] - 16s 161ms/step - loss: 0.5723 - acc: 0.6945 - val_loss: 0.5408 - val_acc: 0.7200\n",
            "Epoch 13/20\n",
            "100/100 [==============================] - 16s 160ms/step - loss: 0.5683 - acc: 0.7030 - val_loss: 0.5350 - val_acc: 0.7190\n",
            "Epoch 14/20\n",
            "100/100 [==============================] - 16s 162ms/step - loss: 0.5667 - acc: 0.7070 - val_loss: 0.5519 - val_acc: 0.7040\n",
            "Epoch 15/20\n",
            "100/100 [==============================] - 16s 160ms/step - loss: 0.5589 - acc: 0.7075 - val_loss: 0.5274 - val_acc: 0.7330\n",
            "Epoch 16/20\n",
            "100/100 [==============================] - 16s 160ms/step - loss: 0.5536 - acc: 0.7135 - val_loss: 0.5342 - val_acc: 0.7310\n",
            "Epoch 17/20\n",
            "100/100 [==============================] - 16s 163ms/step - loss: 0.5603 - acc: 0.7060 - val_loss: 0.5447 - val_acc: 0.7250\n",
            "Epoch 18/20\n",
            "100/100 [==============================] - 16s 160ms/step - loss: 0.5402 - acc: 0.7255 - val_loss: 0.5256 - val_acc: 0.7470\n",
            "Epoch 19/20\n",
            "100/100 [==============================] - 16s 161ms/step - loss: 0.5354 - acc: 0.7310 - val_loss: 0.4982 - val_acc: 0.7600\n",
            "Epoch 20/20\n",
            "100/100 [==============================] - 16s 160ms/step - loss: 0.5536 - acc: 0.7205 - val_loss: 0.5388 - val_acc: 0.7190\n"
          ],
          "name": "stdout"
        }
      ]
    },
    {
      "cell_type": "markdown",
      "metadata": {
        "id": "BRdU5yrkUF_b"
      },
      "source": [
        "# Task 2:\n",
        "\n",
        "We have used Dropout to enhance the performance of the CNN model. Can you please use whatever you like to further enhance the performance from `val_acc: 0.7506`? "
      ]
    },
    {
      "cell_type": "code",
      "metadata": {
        "colab": {
          "base_uri": "https://localhost:8080/"
        },
        "id": "sYyHK8cMOk6Z",
        "outputId": "d4329c6d-6886-4bb2-9cc3-648ac0734df1"
      },
      "source": [
        "train_generator = train_datagen.flow_from_directory(train_dir,\n",
        "                                                    target_size=(150, 150),\n",
        "                                                    batch_size=32,\n",
        "                                                    class_mode='binary')\n",
        "\n",
        "validation_generator = test_datagen.flow_from_directory(validation_dir,\n",
        "                                                        target_size=(150, 150),\n",
        "                                                        batch_size=32,\n",
        "                                                        class_mode='binary')\n",
        "\n",
        "model.fit_generator(train_generator,\n",
        "                              steps_per_epoch=1500//32,\n",
        "                              epochs=32,\n",
        "                              validation_data=validation_generator,\n",
        "                              validation_steps=1500//32)"
      ],
      "execution_count": null,
      "outputs": [
        {
          "output_type": "stream",
          "text": [
            "Found 2000 images belonging to 2 classes.\n",
            "Found 1000 images belonging to 2 classes.\n"
          ],
          "name": "stdout"
        },
        {
          "output_type": "stream",
          "text": [
            "/usr/local/lib/python3.7/dist-packages/tensorflow/python/keras/engine/training.py:1844: UserWarning: `Model.fit_generator` is deprecated and will be removed in a future version. Please use `Model.fit`, which supports generators.\n",
            "  warnings.warn('`Model.fit_generator` is deprecated and '\n"
          ],
          "name": "stderr"
        },
        {
          "output_type": "stream",
          "text": [
            "Epoch 1/32\n",
            "46/46 [==============================] - ETA: 0s - loss: 0.5421 - acc: 0.7276WARNING:tensorflow:Your input ran out of data; interrupting training. Make sure that your dataset or generator can generate at least `steps_per_epoch * epochs` batches (in this case, 46 batches). You may need to use the repeat() function when building your dataset.\n",
            "46/46 [==============================] - 12s 272ms/step - loss: 0.5421 - acc: 0.7276 - val_loss: 0.4956 - val_acc: 0.7590\n",
            "Epoch 2/32\n",
            "46/46 [==============================] - 10s 211ms/step - loss: 0.5127 - acc: 0.7527\n",
            "Epoch 3/32\n",
            "46/46 [==============================] - 10s 211ms/step - loss: 0.5357 - acc: 0.7163\n",
            "Epoch 4/32\n",
            "46/46 [==============================] - 10s 212ms/step - loss: 0.5280 - acc: 0.7383\n",
            "Epoch 5/32\n",
            "46/46 [==============================] - 10s 212ms/step - loss: 0.5474 - acc: 0.7266\n",
            "Epoch 6/32\n",
            "46/46 [==============================] - 10s 212ms/step - loss: 0.5499 - acc: 0.7054\n",
            "Epoch 7/32\n",
            "46/46 [==============================] - 10s 212ms/step - loss: 0.5164 - acc: 0.7479\n",
            "Epoch 8/32\n",
            "46/46 [==============================] - 10s 213ms/step - loss: 0.5116 - acc: 0.7514\n",
            "Epoch 9/32\n",
            "46/46 [==============================] - 10s 210ms/step - loss: 0.5237 - acc: 0.7376\n",
            "Epoch 10/32\n",
            "46/46 [==============================] - 10s 213ms/step - loss: 0.5110 - acc: 0.7479\n",
            "Epoch 11/32\n",
            "46/46 [==============================] - 10s 212ms/step - loss: 0.5060 - acc: 0.7569\n",
            "Epoch 12/32\n",
            "46/46 [==============================] - 10s 213ms/step - loss: 0.5144 - acc: 0.7371\n",
            "Epoch 13/32\n",
            "46/46 [==============================] - 10s 213ms/step - loss: 0.5107 - acc: 0.7418\n",
            "Epoch 14/32\n",
            "46/46 [==============================] - 10s 211ms/step - loss: 0.5025 - acc: 0.7603\n",
            "Epoch 15/32\n",
            "46/46 [==============================] - 10s 213ms/step - loss: 0.4918 - acc: 0.7514\n",
            "Epoch 16/32\n",
            "46/46 [==============================] - 10s 215ms/step - loss: 0.4939 - acc: 0.7649\n",
            "Epoch 17/32\n",
            "46/46 [==============================] - 10s 212ms/step - loss: 0.4932 - acc: 0.7589\n",
            "Epoch 18/32\n",
            "46/46 [==============================] - 10s 213ms/step - loss: 0.4789 - acc: 0.7697\n",
            "Epoch 19/32\n",
            "46/46 [==============================] - 10s 213ms/step - loss: 0.4950 - acc: 0.7431\n",
            "Epoch 20/32\n",
            "46/46 [==============================] - 10s 211ms/step - loss: 0.4923 - acc: 0.7617\n",
            "Epoch 21/32\n",
            "46/46 [==============================] - 10s 210ms/step - loss: 0.4870 - acc: 0.7658\n",
            "Epoch 22/32\n",
            "46/46 [==============================] - 10s 210ms/step - loss: 0.4886 - acc: 0.7734\n",
            "Epoch 23/32\n",
            "46/46 [==============================] - 10s 212ms/step - loss: 0.4797 - acc: 0.7630\n",
            "Epoch 24/32\n",
            "46/46 [==============================] - 10s 214ms/step - loss: 0.4964 - acc: 0.7493\n",
            "Epoch 25/32\n",
            "46/46 [==============================] - 10s 210ms/step - loss: 0.4723 - acc: 0.7699\n",
            "Epoch 26/32\n",
            "46/46 [==============================] - 10s 210ms/step - loss: 0.5012 - acc: 0.7527\n",
            "Epoch 27/32\n",
            "46/46 [==============================] - 10s 212ms/step - loss: 0.4756 - acc: 0.7651\n",
            "Epoch 28/32\n",
            "46/46 [==============================] - 10s 212ms/step - loss: 0.4718 - acc: 0.7663\n",
            "Epoch 29/32\n",
            "46/46 [==============================] - 10s 211ms/step - loss: 0.4772 - acc: 0.7740\n",
            "Epoch 30/32\n",
            "46/46 [==============================] - 10s 214ms/step - loss: 0.4798 - acc: 0.7724\n",
            "Epoch 31/32\n",
            "46/46 [==============================] - 10s 213ms/step - loss: 0.4938 - acc: 0.7582\n",
            "Epoch 32/32\n",
            "46/46 [==============================] - 10s 217ms/step - loss: 0.4761 - acc: 0.7636\n"
          ],
          "name": "stdout"
        },
        {
          "output_type": "execute_result",
          "data": {
            "text/plain": [
              "<tensorflow.python.keras.callbacks.History at 0x7f8b27c7aa50>"
            ]
          },
          "metadata": {
            "tags": []
          },
          "execution_count": 35
        }
      ]
    },
    {
      "cell_type": "markdown",
      "metadata": {
        "id": "usTIdNiLScnJ"
      },
      "source": [
        "Hee we can see at epoch 32 val_accuracy, acc=0.7636 which is greater than 7506"
      ]
    }
  ]
}