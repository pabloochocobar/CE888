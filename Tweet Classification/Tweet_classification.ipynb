{
  "nbformat": 4,
  "nbformat_minor": 0,
  "metadata": {
    "colab": {
      "name": "Tweet_classification",
      "provenance": [],
      "collapsed_sections": [],
      "toc_visible": true,
      "include_colab_link": true
    },
    "kernelspec": {
      "display_name": "Python 3",
      "name": "python3"
    }
  },
  "cells": [
    {
      "cell_type": "markdown",
      "metadata": {
        "id": "view-in-github",
        "colab_type": "text"
      },
      "source": [
        "<a href=\"https://colab.research.google.com/github/pabloochocobar/CE888/blob/main/Tweet_classification.ipynb\" target=\"_parent\"><img src=\"https://colab.research.google.com/assets/colab-badge.svg\" alt=\"Open In Colab\"/></a>"
      ]
    },
    {
      "cell_type": "code",
      "metadata": {
        "colab": {
          "base_uri": "https://localhost:8080/",
          "height": 235
        },
        "id": "n7yzWvyUOsaW",
        "outputId": "e00d2676-079c-47b3-9fc3-272287d060b1"
      },
      "source": [
        "from sklearn.metrics import classification_report\n",
        "import argparse\n",
        "import os\n",
        "\n",
        "TASKS = [\n",
        "    'emotion',\n",
        "    'sentiment',\n",
        "    'stance']\n",
        "\n",
        "STANCE_TASKS = [\n",
        "    'abortion',\n",
        "    'atheism',\n",
        "    'climate',\n",
        "    'feminist',\n",
        "    'hillary']\n",
        "\n",
        "\n",
        "def load_gold_pred(args):\n",
        "    tweet_classification_path = args.tweet_classification_path\n",
        "    predictions_path = args.predictions_path\n",
        "    task = args.task\n",
        "\n",
        "    if 'stance' in task:\n",
        "        gold = []\n",
        "        pred = []\n",
        "        for stance_t in STANCE_TASKS:\n",
        "            gold_path = os.path.join(tweet_classification_path, task, stance_t, 'test_labels.txt')\n",
        "            pred_path = os.path.join(predictions_path, task, stance_t + '.txt')\n",
        "            gold.append(open(gold_path).read().split(\"\\n\")[:-1])\n",
        "            pred.append(open(pred_path).read().split(\"\\n\")[:-1])\n",
        "        # flatten lists of lists\n",
        "        gold = [p for each_target in gold for p in each_target]\n",
        "        pred = [p for each_target in pred for p in each_target]\n",
        "    else:\n",
        "        gold_path = os.path.join(tweet_classification_path, task, 'test_labels.txt')\n",
        "        pred_path = os.path.join(predictions_path, task + '.txt')\n",
        "        gold = open(gold_path).read().split(\"\\n\")[:-1]\n",
        "        pred = open(pred_path).read().split(\"\\n\")[:-1]\n",
        "\n",
        "    return gold, pred\n",
        "\n",
        "\n",
        "def single_task_results(args):\n",
        "    task = args.task\n",
        "    tweet_classification_result = -1\n",
        "    results = {}\n",
        "\n",
        "    try:\n",
        "        gold, pred = load_gold_pred(args)\n",
        "        results = classification_report(gold, pred, output_dict=True)\n",
        "\n",
        "            # Emotion (Macro f1)\n",
        "        if 'emotion' in task:\n",
        "            tweet_classification_result = results['macro avg']['f1-score']\n",
        "\n",
        "            # Sentiment (Macro Recall)\n",
        "        elif 'sentiment' in task:\n",
        "            tweet_classification_result = results['macro avg']['recall']\n",
        "\n",
        "        # Stance (Macro F1 of 'favor' and 'against' classes)\n",
        "        elif 'stance' in task:\n",
        "            f1_against = results['1']['f1-score']\n",
        "            f1_favor = results['2']['f1-score']\n",
        "            tweet_classification_result = (f1_against + f1_favor) / 2\n",
        "\n",
        "    except Exception as ex:\n",
        "        print(f\"Issues with task {task}: {ex}\")\n",
        "\n",
        "    return tweet_classification_result, results\n",
        "\n",
        "\n",
        "def is_all_good(all_tweet_classification_results):\n",
        "    return all([r != -1 for r in all_tweet_classification_results.values()])\n",
        "\n",
        "\n",
        "if __name__ == \"__main__\":\n",
        "\n",
        "    parser = argparse.ArgumentParser(description='Tweet_classification script.')\n",
        "\n",
        "    parser.add_argument('--tweet_classification_path', default=\"./datasets/\", type=str, help='Path to Tweet_classification datasets')\n",
        "    parser.add_argument('--predictions_path', default=\"./predictions/\", type=str, help='Path to predictions files')\n",
        "    parser.add_argument('--task', default=\"\", type=str,\n",
        "                        help='Indicate this parameter to get single task detailed results')\n",
        "\n",
        "    args = parser.parse_args()\n",
        "\n",
        "    if args.task == \"\":\n",
        "        all_tweet_classification_results = {}\n",
        "\n",
        "        # Results for each task\n",
        "        for t in TASKS:\n",
        "            args.task = t\n",
        "            all_tweet_classification_results[t], _ = single_task_results(args)\n",
        "\n",
        "        # Print results (score=-1 if some results are missing)\n",
        "        print(f\"{'-' * 30}\")\n",
        "        if is_all_good(all_tweet_classification_results):\n",
        "            tweet_classification_final_score = sum(all_tweet_classification_results.values()) / len(all_tweet_classification_results.values())\n",
        "        else:\n",
        "            tweet_classification_final_score = -1\n",
        "        for t in TASKS:\n",
        "            # Each score\n",
        "            print(f\"{t}: {all_tweet_classification_results[t]}\")\n",
        "            # Final score\n",
        "        print(f\"{'-' * 30}\\nTweet_classification Score: {tweet_classification_final_score}\")\n",
        "\n",
        "    else:\n",
        "        # Detailed results of one single task (--task parameter)\n",
        "        tweet_classification_resut, results = single_task_results(args)\n",
        "        for k in results:\n",
        "            print(k, results[k])\n",
        "        print(f\"{'-' * 30}\\nTweet_classification Score ({args.task}): {tweet_classification_resut}\")"
      ],
      "execution_count": null,
      "outputs": [
        {
          "output_type": "stream",
          "text": [
            "usage: ipykernel_launcher.py [-h] [--tweeteval_path TWEETEVAL_PATH]\n",
            "                             [--predictions_path PREDICTIONS_PATH]\n",
            "                             [--task TASK]\n",
            "ipykernel_launcher.py: error: unrecognized arguments: -f /root/.local/share/jupyter/runtime/kernel-fa9fa764-4728-488b-b0c3-589c4e85006e.json\n"
          ],
          "name": "stderr"
        },
        {
          "output_type": "error",
          "ename": "SystemExit",
          "evalue": "ignored",
          "traceback": [
            "An exception has occurred, use %tb to see the full traceback.\n",
            "\u001b[0;31mSystemExit\u001b[0m\u001b[0;31m:\u001b[0m 2\n"
          ]
        },
        {
          "output_type": "stream",
          "text": [
            "/usr/local/lib/python3.7/dist-packages/IPython/core/interactiveshell.py:2890: UserWarning: To exit: use 'exit', 'quit', or Ctrl-D.\n",
            "  warn(\"To exit: use 'exit', 'quit', or Ctrl-D.\", stacklevel=1)\n"
          ],
          "name": "stderr"
        }
      ]
    }
  ]
}
